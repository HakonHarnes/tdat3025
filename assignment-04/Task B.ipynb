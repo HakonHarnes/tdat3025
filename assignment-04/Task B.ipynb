{
 "cells": [
  {
   "cell_type": "markdown",
   "metadata": {},
   "source": [
    "# Task B - Many to one"
   ]
  },
  {
   "cell_type": "code",
   "execution_count": 1,
   "metadata": {},
   "outputs": [],
   "source": [
    "import torch\n",
    "import torch.nn as nn"
   ]
  },
  {
   "cell_type": "markdown",
   "metadata": {},
   "source": [
    "## Training data"
   ]
  },
  {
   "cell_type": "markdown",
   "metadata": {},
   "source": [
    "### Character encodings"
   ]
  },
  {
   "cell_type": "code",
   "execution_count": 2,
   "metadata": {},
   "outputs": [],
   "source": [
    "char_encodings = [\n",
    "    [1., 0., 0., 0., 0., 0., 0., 0., 0., 0., 0., 0., 0.],  # ' '\n",
    "    [0., 1., 0., 0., 0., 0., 0., 0., 0., 0., 0., 0., 0.],  # 'a'\n",
    "    [0., 0., 1., 0., 0., 0., 0., 0., 0., 0., 0., 0., 0.],  # 'c'\n",
    "    [0., 0., 0., 1., 0., 0., 0., 0., 0., 0., 0., 0., 0.],  # 'f'\n",
    "    [0., 0., 0., 0., 1., 0., 0., 0., 0., 0., 0., 0., 0.],  # 'h'\n",
    "    [0., 0., 0., 0., 0., 1., 0., 0., 0., 0., 0., 0., 0.],  # 'l'\n",
    "    [0., 0., 0., 0., 0., 0., 1., 0., 0., 0., 0., 0., 0.],  # 'm'\n",
    "    [0., 0., 0., 0., 0., 0., 0., 1., 0., 0., 0., 0., 0.],  # 'n'\n",
    "    [0., 0., 0., 0., 0., 0., 0., 0., 1., 0., 0., 0., 0.],  # 'o'\n",
    "    [0., 0., 0., 0., 0., 0., 0., 0., 0., 1., 0., 0., 0.],  # 'p'\n",
    "    [0., 0., 0., 0., 0., 0., 0., 0., 0., 0., 1., 0., 0.],  # 'r'\n",
    "    [0., 0., 0., 0., 0., 0., 0., 0., 0., 0., 0., 1., 0.],  # 's'\n",
    "    [0., 0., 0., 0., 0., 0., 0., 0., 0., 0., 0., 0., 1.]   # 't'\n",
    "]\n",
    "\n",
    "encoding_size = len(char_encodings)\n",
    "index_to_char = [' ', 'a', 'c', 'f', 'h', 'l', 'm', 'n', 'o', 'p', 'r', 's', 't']"
   ]
  },
  {
   "cell_type": "code",
   "execution_count": 3,
   "metadata": {},
   "outputs": [],
   "source": [
    "def encode_string(string):\n",
    "    encoding = []\n",
    "    \n",
    "    for char in string:\n",
    "        encoding.append(char_encodings[index_to_char.index(char)])\n",
    "    \n",
    "    return encoding"
   ]
  },
  {
   "cell_type": "code",
   "execution_count": 4,
   "metadata": {},
   "outputs": [],
   "source": [
    "x_train = torch.tensor([\n",
    "    encode_string('hat '),\n",
    "    encode_string('rat '),  \n",
    "    encode_string('cat '),  \n",
    "    encode_string('flat'), \n",
    "    encode_string('matt'), \n",
    "    encode_string('cap '), \n",
    "    encode_string('son '),  \n",
    "                       ]).transpose(1, 0)"
   ]
  },
  {
   "cell_type": "markdown",
   "metadata": {},
   "source": [
    "### Emoji encodings "
   ]
  },
  {
   "cell_type": "code",
   "execution_count": 5,
   "metadata": {},
   "outputs": [],
   "source": [
    "emoji_encodings = [\n",
    "    [1., 0., 0., 0., 0., 0., 0.], # '🎩'\n",
    "    [0., 1., 0., 0., 0., 0., 0.], # '🐀'\n",
    "    [0., 0., 1., 0., 0., 0., 0.], # '🐈'\n",
    "    [0., 0., 0., 1., 0., 0., 0.], # '🏢'\n",
    "    [0., 0., 0., 0., 1., 0., 0.], # '🧔'\n",
    "    [0., 0., 0., 0., 0., 1., 0.], # '🧢'\n",
    "    [0., 0., 0., 0., 0., 0., 1.]  # '👦'\n",
    "]\n",
    "\n",
    "emoji_size = len(emoji_encodings)\n",
    "index_to_emoji = ['🎩', '🐀', '🐈', '🏢', '🧔', '🧢', '👦']"
   ]
  },
  {
   "cell_type": "code",
   "execution_count": 6,
   "metadata": {},
   "outputs": [],
   "source": [
    "def encode_emoji(emoji):\n",
    "    return emoji_encodings[index_to_emoji.index(emoji)]"
   ]
  },
  {
   "cell_type": "code",
   "execution_count": 7,
   "metadata": {},
   "outputs": [],
   "source": [
    "def decode_emoji(tensor):\n",
    "    return index_to_emoji[tensor.argmax(1)]"
   ]
  },
  {
   "cell_type": "code",
   "execution_count": 8,
   "metadata": {},
   "outputs": [],
   "source": [
    "y_train = torch.tensor([encode_emoji('🎩'), encode_emoji('🐀'), encode_emoji('🐈'), encode_emoji('🏢'), \n",
    "                        encode_emoji('🧔'), encode_emoji('🧢'), encode_emoji('👦')]) "
   ]
  },
  {
   "cell_type": "markdown",
   "metadata": {},
   "source": [
    "## Model definition"
   ]
  },
  {
   "cell_type": "code",
   "execution_count": 9,
   "metadata": {},
   "outputs": [],
   "source": [
    "class LongShortTermMemoryModel(nn.Module):\n",
    "    def __init__(self, in_size, out_size):\n",
    "        super(LongShortTermMemoryModel, self).__init__()\n",
    "\n",
    "        self.lstm = nn.LSTM(in_size, 128)  # 128 is the state size\n",
    "        self.dense = nn.Linear(128, out_size)  # 128 is the state size\n",
    "\n",
    "    def reset(self, batch_size):  # Reset states prior to new input sequence\n",
    "        zero_state = torch.zeros(1, batch_size, 128)  # Shape: (number of layers, batch size, state size)\n",
    "        self.hidden_state = zero_state\n",
    "        self.cell_state = zero_state\n",
    "\n",
    "    def logits(self, x):  # x shape: (sequence length, batch size, encoding size)\n",
    "        out, (self.hidden_state, self.cell_state) = self.lstm(x, (self.hidden_state, self.cell_state))\n",
    "        return self.dense(out[-1].reshape(-1, 128)) # uses last output \n",
    "\n",
    "    def f(self, x):  # x shape: (sequence length, batch size, encoding size)\n",
    "        return torch.softmax(self.logits(x), dim=1)\n",
    "\n",
    "    def loss(self, x, y):  # x shape: (sequence length, batch size, encoding size), y shape: (sequence length, emoji size)\n",
    "        return nn.functional.cross_entropy(self.logits(x), y.argmax(1))"
   ]
  },
  {
   "cell_type": "code",
   "execution_count": 10,
   "metadata": {},
   "outputs": [],
   "source": [
    "model = LongShortTermMemoryModel(encoding_size, emoji_size)"
   ]
  },
  {
   "cell_type": "markdown",
   "metadata": {},
   "source": [
    "## Model training"
   ]
  },
  {
   "cell_type": "code",
   "execution_count": 11,
   "metadata": {},
   "outputs": [],
   "source": [
    "learning_rate = 0.001\n",
    "epochs = 500"
   ]
  },
  {
   "cell_type": "code",
   "execution_count": 12,
   "metadata": {},
   "outputs": [],
   "source": [
    "optimizer = torch.optim.RMSprop(model.parameters(), lr=learning_rate)"
   ]
  },
  {
   "cell_type": "code",
   "execution_count": 13,
   "metadata": {},
   "outputs": [
    {
     "name": "stdout",
     "output_type": "stream",
     "text": [
      "🐀\n",
      "🐀\n",
      "🐀\n",
      "🐀\n",
      "🐀\n",
      "🐀\n",
      "🐀\n",
      "🐀\n",
      "🐀\n",
      "🐀\n",
      "🐀\n",
      "🐀\n",
      "🐀\n",
      "🐀\n",
      "🐀\n",
      "🐀\n",
      "🐀\n",
      "🐀\n",
      "🐀\n",
      "🐀\n",
      "🐀\n",
      "🐀\n",
      "🐀\n",
      "🐀\n",
      "🐀\n",
      "🐀\n",
      "🐀\n",
      "🐀\n",
      "🐀\n",
      "🐀\n",
      "🐀\n",
      "🐀\n",
      "🐀\n",
      "🐀\n",
      "🐀\n",
      "🐀\n",
      "🐀\n",
      "🐀\n",
      "🐀\n",
      "🐀\n",
      "🐀\n",
      "🐀\n",
      "🐀\n",
      "🐀\n",
      "🐀\n",
      "🐀\n",
      "🐀\n",
      "🐀\n",
      "🐀\n",
      "🐀\n"
     ]
    }
   ],
   "source": [
    "for epoch in range(epochs):\n",
    "    model.reset(x_train.size(1))\n",
    "    model.loss(x_train, y_train).backward()\n",
    "    optimizer.step()\n",
    "    optimizer.zero_grad()\n",
    "\n",
    "    if epoch % 10 == 9:\n",
    "        model.reset(1)\n",
    "        test_string = 'rt  '\n",
    "        print(decode_emoji(model.f(torch.tensor([encode_string(test_string)]).transpose(1, 0))))\n"
   ]
  }
 ],
 "metadata": {
  "kernelspec": {
   "display_name": "Python 3",
   "language": "python",
   "name": "python3"
  },
  "language_info": {
   "codemirror_mode": {
    "name": "ipython",
    "version": 3
   },
   "file_extension": ".py",
   "mimetype": "text/x-python",
   "name": "python",
   "nbconvert_exporter": "python",
   "pygments_lexer": "ipython3",
   "version": "3.7.3"
  }
 },
 "nbformat": 4,
 "nbformat_minor": 4
}
