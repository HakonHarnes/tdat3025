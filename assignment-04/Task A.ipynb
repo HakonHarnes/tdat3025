{
 "cells": [
  {
   "cell_type": "markdown",
   "metadata": {},
   "source": [
    "# Task A - Many to many"
   ]
  },
  {
   "cell_type": "code",
   "execution_count": 60,
   "metadata": {},
   "outputs": [],
   "source": [
    "import torch\n",
    "import torch.nn as nn"
   ]
  },
  {
   "cell_type": "markdown",
   "metadata": {},
   "source": [
    "## Training data"
   ]
  },
  {
   "cell_type": "code",
   "execution_count": 61,
   "metadata": {},
   "outputs": [],
   "source": [
    "char_encodings = [\n",
    "    [1., 0., 0., 0., 0., 0., 0., 0.],  # ' '\n",
    "    [0., 1., 0., 0., 0., 0., 0., 0.],  # 'h'\n",
    "    [0., 0., 1., 0., 0., 0., 0., 0.],  # 'e'\n",
    "    [0., 0., 0., 1., 0., 0., 0., 0.],  # 'l'\n",
    "    [0., 0., 0., 0., 1., 0., 0., 0.],  # 'o'\n",
    "    [0., 0., 0., 0., 0., 1., 0., 0.],  # 'w'\n",
    "    [0., 0., 0., 0., 0., 0., 1., 0.],  # 'r'\n",
    "    [0., 0., 0., 0., 0., 0., 0., 1.],  # 'd'\n",
    "]\n",
    "\n",
    "encoding_size = len(char_encodings)\n",
    "index_to_char = [' ', 'h', 'e', 'l', 'o', 'w', 'r', 'd']"
   ]
  },
  {
   "cell_type": "code",
   "execution_count": 72,
   "metadata": {},
   "outputs": [],
   "source": [
    "# ' hello world'\n",
    "x_train = torch.tensor([[char_encodings[0]], [char_encodings[1]], [char_encodings[2]], [char_encodings[3]], \n",
    "                        [char_encodings[3]], [char_encodings[4]], [char_encodings[0]], [char_encodings[5]], \n",
    "                        [char_encodings[4]], [char_encodings[6]], [char_encodings[3]], [char_encodings[7]]]) "
   ]
  },
  {
   "cell_type": "code",
   "execution_count": 63,
   "metadata": {},
   "outputs": [],
   "source": [
    "# 'hello world '\n",
    "y_train = torch.tensor([char_encodings[1], char_encodings[2], char_encodings[3], char_encodings[3],\n",
    "                        char_encodings[4], char_encodings[0], char_encodings[5], char_encodings[4], \n",
    "                        char_encodings[6], char_encodings[3], char_encodings[7], char_encodings[0]]) "
   ]
  },
  {
   "cell_type": "markdown",
   "metadata": {},
   "source": [
    "## Model definition"
   ]
  },
  {
   "cell_type": "code",
   "execution_count": 64,
   "metadata": {},
   "outputs": [],
   "source": [
    "class LongShortTermMemoryModel(nn.Module):\n",
    "    def __init__(self, encoding_size):\n",
    "        super(LongShortTermMemoryModel, self).__init__()\n",
    "\n",
    "        self.lstm = nn.LSTM(encoding_size, 128)  # 128 is the state size\n",
    "        self.dense = nn.Linear(128, encoding_size)  # 128 is the state size\n",
    "\n",
    "    def reset(self):  # Reset states prior to new input sequence\n",
    "        zero_state = torch.zeros(1, 1, 128)  # Shape: (number of layers, batch size, state size)\n",
    "        self.hidden_state = zero_state\n",
    "        self.cell_state = zero_state\n",
    "\n",
    "    def logits(self, x):  # x shape: (sequence length, batch size, encoding size)\n",
    "        out, (self.hidden_state, self.cell_state) = self.lstm(x, (self.hidden_state, self.cell_state))\n",
    "        return self.dense(out.reshape(-1, 128))\n",
    "\n",
    "    def f(self, x):  # x shape: (sequence length, batch size, encoding size)\n",
    "        return torch.softmax(self.logits(x), dim=1)\n",
    "\n",
    "    def loss(self, x, y):  # x shape: (sequence length, batch size, encoding size), y shape: (sequence length, encoding size)\n",
    "        return nn.functional.cross_entropy(self.logits(x), y.argmax(1))"
   ]
  },
  {
   "cell_type": "code",
   "execution_count": 65,
   "metadata": {},
   "outputs": [],
   "source": [
    "model = LongShortTermMemoryModel(encoding_size)"
   ]
  },
  {
   "cell_type": "markdown",
   "metadata": {},
   "source": [
    "## Model training"
   ]
  },
  {
   "cell_type": "code",
   "execution_count": 66,
   "metadata": {},
   "outputs": [],
   "source": [
    "learning_rate = 0.001\n",
    "epochs = 500"
   ]
  },
  {
   "cell_type": "code",
   "execution_count": 67,
   "metadata": {},
   "outputs": [],
   "source": [
    "optimizer = torch.optim.RMSprop(model.parameters(), lr=learning_rate)"
   ]
  },
  {
   "cell_type": "code",
   "execution_count": 68,
   "metadata": {},
   "outputs": [
    {
     "name": "stdout",
     "output_type": "stream",
     "text": [
      " hlllooolddd d d d d d d d d d d d d d d d d d d d d \n",
      " hlllo world      ll     ll     ll     ll     ll     \n",
      " hlllo world    rld    rld    rld    rld    rld    rl\n",
      " hello world   wrld   wrld   rrld   rlld  wrld   wrld\n",
      " hello world   rrld  wrld   wrld  wrrld  wrld   wrld \n",
      " hello world  wrrld  wrld  world  wrld  world  wrld  \n",
      " hello world  wrld  world  wrld  world  wrld  world  \n",
      " hello world  wrld  world  wrld  world  wrld  world  \n",
      " hello world  wrld  world  wrld  world  wrld  world  \n",
      " hello world  wrld  world  wrld  wrlld world  wrld  w\n",
      " hello world  wrld  wrlld world  wrld  world world  w\n",
      " hello world  wrld  wrll  world  wrld  world world  w\n",
      " hello world  wrld  wrll  world world  wrld  world wo\n",
      " hello world  wrld  wrld  world world  wrld  world wo\n",
      " hello world world  wrld  wolld world world  wrld  wo\n",
      " hello world world  wrld  wrld  world world world  wr\n",
      " hello world world world  wrld  wolld world world wor\n",
      " hello world world world world world  wrld  wolld wor\n",
      " hello world world world world world world world worl\n",
      " hello world world world world world world world worl\n",
      " hello world world world world world world world worl\n",
      " hello world world world world world world world worl\n",
      " hello world world world world world world world worl\n",
      " hello world world world world world world world worl\n",
      " hello world world world world world world world worl\n",
      " hello world world world world world world world worl\n",
      " hello world world world world world world world worl\n",
      " hello world world world world world world world worl\n",
      " hello world world world world world world world worl\n",
      " hello world world world world world world world worl\n",
      " hello world world world world world world world worl\n",
      " hello world world world world world world world worl\n",
      " hello world world world world world world world worl\n",
      " hello world world world world world world world worl\n",
      " hello world world world world world world world worl\n",
      " hello world world world world world world world worl\n",
      " hello world world world world world world world worl\n",
      " hello world world world world world world world worl\n",
      " hello world world world world world world world worl\n",
      " hello world world world world world world world worl\n",
      " hello world world world world world world world worl\n",
      " hello world world world world world world world worl\n",
      " hello world world world world world world world worl\n",
      " hello world world world world world world world worl\n",
      " hello world world world world world world world worl\n",
      " hello world world world world world world world worl\n",
      " hello world world world world world world world worl\n",
      " hello world world world world world world world worl\n",
      " hello world world world world world world world worl\n",
      " hello world world world world world world world worl\n"
     ]
    }
   ],
   "source": [
    "for epoch in range(epochs):\n",
    "    model.reset()\n",
    "    model.loss(x_train, y_train).backward()\n",
    "    optimizer.step()\n",
    "    optimizer.zero_grad()\n",
    "\n",
    "    if epoch % 10 == 9:\n",
    "        # Generate characters from the initial characters ' h'\n",
    "        model.reset()\n",
    "        text = ' h'\n",
    "        model.f(torch.tensor([[char_encodings[0]]]))\n",
    "        y = model.f(torch.tensor([[char_encodings[1]]]))\n",
    "        text += index_to_char[y.argmax(1)]\n",
    "        for c in range(50):\n",
    "            y = model.f(torch.tensor([[char_encodings[y.argmax(1)]]]))\n",
    "            text += index_to_char[y.argmax(1)]\n",
    "        print(text)"
   ]
  },
  {
   "cell_type": "markdown",
   "metadata": {},
   "source": [
    "## Model testing "
   ]
  },
  {
   "cell_type": "code",
   "execution_count": 74,
   "metadata": {},
   "outputs": [
    {
     "name": "stdout",
     "output_type": "stream",
     "text": [
      " hello world world world world world world world worl\n"
     ]
    }
   ],
   "source": [
    "model.reset()\n",
    "text = ' h'\n",
    "model.f(torch.tensor([[char_encodings[0]]]))\n",
    "y = model.f(torch.tensor([[char_encodings[1]]]))\n",
    "text += index_to_char[y.argmax(1)]\n",
    "\n",
    "for c in range(50):\n",
    "    y = model.f(torch.tensor([[char_encodings[y.argmax(1)]]]))\n",
    "    text += index_to_char[y.argmax(1)]\n",
    "    \n",
    "print(text)"
   ]
  }
 ],
 "metadata": {
  "kernelspec": {
   "display_name": "Python 3",
   "language": "python",
   "name": "python3"
  },
  "language_info": {
   "codemirror_mode": {
    "name": "ipython",
    "version": 3
   },
   "file_extension": ".py",
   "mimetype": "text/x-python",
   "name": "python",
   "nbconvert_exporter": "python",
   "pygments_lexer": "ipython3",
   "version": "3.7.3"
  }
 },
 "nbformat": 4,
 "nbformat_minor": 4
}
